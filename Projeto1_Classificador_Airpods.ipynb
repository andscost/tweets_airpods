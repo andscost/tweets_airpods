{
 "cells": [
  {
   "cell_type": "markdown",
   "metadata": {},
   "source": [
    "# Projeto 1 - Ciência dos Dados"
   ]
  },
  {
   "cell_type": "markdown",
   "metadata": {},
   "source": [
    "Nome: Guilherme Aranha\n",
    "\n",
    "Nome: André Costa"
   ]
  },
  {
   "cell_type": "markdown",
   "metadata": {},
   "source": [
    "**Atenção:** Serão permitidos grupos de três pessoas, mas com uma rubrica mais exigente. Grupos deste tamanho precisarão fazer um questionário de avaliação de trabalho em equipe"
   ]
  },
  {
   "cell_type": "markdown",
   "metadata": {},
   "source": [
    "___\n",
    "Carregando algumas bibliotecas:"
   ]
  },
  {
   "cell_type": "code",
   "execution_count": 1,
   "metadata": {},
   "outputs": [],
   "source": [
    "%matplotlib inline\n",
    "import pandas as pd\n",
    "import matplotlib.pyplot as plt\n",
    "import numpy as np\n",
    "import os\n",
    "import re\n",
    "import emoji"
   ]
  },
  {
   "cell_type": "markdown",
   "metadata": {},
   "source": [
    "**Em `filename`, coloque o nome do seu arquivo de dados!**"
   ]
  },
  {
   "cell_type": "code",
   "execution_count": 2,
   "metadata": {
    "scrolled": false
   },
   "outputs": [
    {
     "name": "stdout",
     "output_type": "stream",
     "text": [
      "Encontrei o arquivo airpods.xlsx, tudo certo para prosseguir com a prova!\n"
     ]
    }
   ],
   "source": [
    "import os\n",
    "\n",
    "filename = 'airpods.xlsx'\n",
    "if filename in os.listdir():\n",
    "    print(f'Encontrei o arquivo {filename}, tudo certo para prosseguir com a prova!')\n",
    "else:\n",
    "    print(f'Não encontrei o arquivo {filename} aqui no diretório {os.getcwd()}, será que você não baixou o arquivo?')"
   ]
  },
  {
   "cell_type": "markdown",
   "metadata": {},
   "source": [
    "Carregando a base de dados com os tweets classificados como relevantes e não relevantes:"
   ]
  },
  {
   "cell_type": "code",
   "execution_count": 3,
   "metadata": {},
   "outputs": [
    {
     "data": {
      "text/html": [
       "<div>\n",
       "<style scoped>\n",
       "    .dataframe tbody tr th:only-of-type {\n",
       "        vertical-align: middle;\n",
       "    }\n",
       "\n",
       "    .dataframe tbody tr th {\n",
       "        vertical-align: top;\n",
       "    }\n",
       "\n",
       "    .dataframe thead th {\n",
       "        text-align: right;\n",
       "    }\n",
       "</style>\n",
       "<table border=\"1\" class=\"dataframe\">\n",
       "  <thead>\n",
       "    <tr style=\"text-align: right;\">\n",
       "      <th></th>\n",
       "      <th>Tweet</th>\n",
       "      <th>Classe</th>\n",
       "    </tr>\n",
       "  </thead>\n",
       "  <tbody>\n",
       "    <tr>\n",
       "      <th>0</th>\n",
       "      <td>@macmagazine @eduardomarques só é válido para ...</td>\n",
       "      <td>1</td>\n",
       "    </tr>\n",
       "    <tr>\n",
       "      <th>1</th>\n",
       "      <td>alfândega dos eua apreende 2.000 gemas oneplus...</td>\n",
       "      <td>1</td>\n",
       "    </tr>\n",
       "    <tr>\n",
       "      <th>2</th>\n",
       "      <td>você tem airpods ? onde vc comprou nunca achei...</td>\n",
       "      <td>2</td>\n",
       "    </tr>\n",
       "    <tr>\n",
       "      <th>3</th>\n",
       "      <td>pensando seriamente em compra airpods, e to de...</td>\n",
       "      <td>0</td>\n",
       "    </tr>\n",
       "    <tr>\n",
       "      <th>4</th>\n",
       "      <td>perdi meus airpods dnv 🤣🤣🤣😂😂</td>\n",
       "      <td>1</td>\n",
       "    </tr>\n",
       "  </tbody>\n",
       "</table>\n",
       "</div>"
      ],
      "text/plain": [
       "                                               Tweet  Classe\n",
       "0  @macmagazine @eduardomarques só é válido para ...       1\n",
       "1  alfândega dos eua apreende 2.000 gemas oneplus...       1\n",
       "2  você tem airpods ? onde vc comprou nunca achei...       2\n",
       "3  pensando seriamente em compra airpods, e to de...       0\n",
       "4                       perdi meus airpods dnv 🤣🤣🤣😂😂       1"
      ]
     },
     "execution_count": 3,
     "metadata": {},
     "output_type": "execute_result"
    }
   ],
   "source": [
    "train = pd.read_excel(filename)\n",
    "train.head(5)"
   ]
  },
  {
   "cell_type": "code",
   "execution_count": 4,
   "metadata": {},
   "outputs": [
    {
     "data": {
      "text/html": [
       "<div>\n",
       "<style scoped>\n",
       "    .dataframe tbody tr th:only-of-type {\n",
       "        vertical-align: middle;\n",
       "    }\n",
       "\n",
       "    .dataframe tbody tr th {\n",
       "        vertical-align: top;\n",
       "    }\n",
       "\n",
       "    .dataframe thead th {\n",
       "        text-align: right;\n",
       "    }\n",
       "</style>\n",
       "<table border=\"1\" class=\"dataframe\">\n",
       "  <thead>\n",
       "    <tr style=\"text-align: right;\">\n",
       "      <th></th>\n",
       "      <th>Tweet</th>\n",
       "      <th>Classe</th>\n",
       "    </tr>\n",
       "  </thead>\n",
       "  <tbody>\n",
       "    <tr>\n",
       "      <th>0</th>\n",
       "      <td>as vezes eu não entendo meu pai kkk eu falei q...</td>\n",
       "      <td>2</td>\n",
       "    </tr>\n",
       "    <tr>\n",
       "      <th>1</th>\n",
       "      <td>ganhei um airpods original, carregador origina...</td>\n",
       "      <td>1</td>\n",
       "    </tr>\n",
       "    <tr>\n",
       "      <th>2</th>\n",
       "      <td>@rodrigosoutom @dorafigueiredo não tem outra f...</td>\n",
       "      <td>2</td>\n",
       "    </tr>\n",
       "    <tr>\n",
       "      <th>3</th>\n",
       "      <td>@claraaamoraiss “sabes que os meus airpods caí...</td>\n",
       "      <td>1</td>\n",
       "    </tr>\n",
       "    <tr>\n",
       "      <th>4</th>\n",
       "      <td>esses airpods pro são uns guerreiros msm pq o ...</td>\n",
       "      <td>2</td>\n",
       "    </tr>\n",
       "  </tbody>\n",
       "</table>\n",
       "</div>"
      ],
      "text/plain": [
       "                                               Tweet  Classe\n",
       "0  as vezes eu não entendo meu pai kkk eu falei q...       2\n",
       "1  ganhei um airpods original, carregador origina...       1\n",
       "2  @rodrigosoutom @dorafigueiredo não tem outra f...       2\n",
       "3  @claraaamoraiss “sabes que os meus airpods caí...       1\n",
       "4  esses airpods pro são uns guerreiros msm pq o ...       2"
      ]
     },
     "execution_count": 4,
     "metadata": {},
     "output_type": "execute_result"
    }
   ],
   "source": [
    "test = pd.read_excel(filename, sheet_name = 'Teste')\n",
    "test.head(5)"
   ]
  },
  {
   "cell_type": "markdown",
   "metadata": {},
   "source": [
    "___\n",
    "## Classificador automático de sentimento\n"
   ]
  },
  {
   "cell_type": "markdown",
   "metadata": {},
   "source": [
    "Nosso produto é os **AIRPODS**, os fones true wireless da Apple. Por ser um objeto top de linha, escolhemos classificar as opinioes apenas como positivas, negativas e neutras, descartando a ideia de criar subcategorias como \"um pouco positivo\" e \"muito positivo\".\n",
    "\n",
    "As três categorias que usamos são:\n",
    "* **Positiva:** todos os tweets que tem um vies positivo do produto\n",
    "* **Neutra:** todos os tweets que informam algo sem nenhum vies\n",
    "* **Negativa:** todos os tweets que tem um vies negativo do produto\n",
    "    \n",
    "Como estamos usando um classificador Naive Bayes, usamos na nossa base de dados apenas a frequência com que as palavras aparecem nos tweets, descartando qualquer outro método de analize como a ordem delas.\n",
    "\n",
    "Para facilitar a interpretação dos texto (que são frequentemente muito mal escritos nessa rede), limpamos as strings:\n",
    "* Retiramos alguns símbolos, mas não emojis;\n",
    "* retiramos links;\n",
    "* separamos emojis como se cada um fosse uma palavra individual, mesmo que digitados juntos nos tweets\n",
    "\n",
    "(Não removemos @ porque ele simboliza que um usuário esta sendo marcado).\n",
    "\n",
    "Para obter uma base de dados de qualidade, buscamos equilibrar a quantidade de palavras vindas de tweets positivos, negativos e neutros que seriam usados para treinar o algoritmo (a quantidade de tweets ser desequilibrada não afeta a eficiência do algoritmo, precisamos apenas de uma quantidade de palavras parecida uma vez que analisamos apenas a frequência delas)."
   ]
  },
  {
   "cell_type": "markdown",
   "metadata": {},
   "source": [
    "___\n",
    "### Montando um Classificador Naive-Bayes\n",
    "\n",
    "Considerando apenas as mensagens da planilha Treinamento, ensine  seu classificador."
   ]
  },
  {
   "cell_type": "code",
   "execution_count": 5,
   "metadata": {
    "scrolled": false
   },
   "outputs": [
    {
     "data": {
      "text/plain": [
       "' você tem airpods onde vc comprou nunca achei aq em araxa — comprei no site da apple só queria um airpods 🥴 ganhei um fucking airpods pro de aniversario caralho queria muito @lmwtff manoooo eu tbm to querendo e um airpods tbm huahuah como segurar essa vontade de comprar kkk para as pessoas comprarem airpods lógico eu to fazendo de tudo pra não pagar 1600 reais em um airpods pro mas tá difícil viu 🤦 🏻 \\u200d ♂ ️ manda um airpods aq e eu falo se esperava ou n hoje reclamei com a loja porque os meus airpods nunca mais chegavam e fizeram me o reembolso and guess what chegaram mesmo agora já to juntando dinheiro pro airpods studio veyr o lançamento de hoje vai ser pra mim appleevent @llbggp sempre de airpods meus airpods fazem parte do meu corpo qualquer lugar q eu to eles têm q estar tbm 🤧 tenho que comprar meu airpods porra feliz que meu airpods tá funcionando nesse celular gratidão tirei o powerbeats pro da gaveta pra usar na caminhada/corrida e por mais que eu prefira os airpods pro ô grave '"
      ]
     },
     "execution_count": 5,
     "metadata": {},
     "output_type": "execute_result"
    }
   ],
   "source": [
    "def cleanup(text):\n",
    "    '''\n",
    "    Função que recebe uma string e retorna essa mesma string com algumas correções/filtrações.\n",
    "    '''\n",
    "    \n",
    "    text_cleaned = re.sub(re.compile('[!-.:?;\\n]'), '', text)               #substitui os caracteres ! - . : ? ; \\n por uma string vazia\n",
    "    text_cleaned = re.sub(re.compile(r'(http\\S*\\s)'), '', text_cleaned)     #substitui links básicos por uma string vazia\n",
    "    \n",
    "    text_list = ''                                                          #checa caractere por caracter para adicionar um espaço antes e um depois se ele for um emoji\n",
    "    for x in text_cleaned:\n",
    "        if x in emoji.UNICODE_EMOJI:\n",
    "            text_list += f' {x} '\n",
    "        else:\n",
    "            text_list += f'{x}'\n",
    "    text_cleaned = text_list\n",
    "    \n",
    "    text_cleaned = re.sub(re.compile(r'\\s+'), ' ', text_cleaned)            #substitui sequencias de espaços por um único espaço\n",
    "\n",
    "    return text_cleaned\n",
    "\n",
    "classes = [('neg', 0), ('neu', 1), ('pos', 2)]      #lista dos nomes e dos respectivos numeros das classificações usadas\n",
    "nomes = {'neg': 'Negativo', 'neu': 'Neutro', 'pos': 'Positivo'} #nomes para usar print de forma mais elegante\n",
    "string = {}                                         #dicionário que vai conter uma string para cada classe composta por todos os tweets dessa classe\n",
    "for classe, n in classes:                           #uma vez para cada classe\n",
    "    frame = train.loc[train['Classe'] == n, :]      #seleciona só os tweets da classe\n",
    "    string[classe] = ''                             #cria uma string para compreender os tweets\n",
    "    for tweet in frame['Tweet']:                    #adiciona cada tweet na string \n",
    "        string[classe] += ' ' + tweet\n",
    "    \n",
    "    string[classe] = cleanup(string[classe].lower()) #faz a limpeza da string\n",
    "\n",
    "string['pos'][:1000]"
   ]
  },
  {
   "cell_type": "code",
   "execution_count": 6,
   "metadata": {},
   "outputs": [
    {
     "name": "stdout",
     "output_type": "stream",
     "text": [
      "palavras na classe neg: 791 (26.9%)\n",
      "palavras na classe neu: 1226 (41.7%)\n",
      "palavras na classe pos: 921 (31.3%)\n"
     ]
    }
   ],
   "source": [
    "t = 0             #print da quantidade de palavras em cada classe na base de treino\n",
    "for classe, n in classes:\n",
    "    t += len(pd.Series(string[classe].split()).value_counts())\n",
    "for classe, n in classes:\n",
    "    print(f'palavras na classe {classe}:',len(pd.Series(string[classe].split()).value_counts()), f'({(len(pd.Series(string[classe].split()).value_counts())/t)*100:.3g}%)')"
   ]
  },
  {
   "cell_type": "code",
   "execution_count": 7,
   "metadata": {},
   "outputs": [
    {
     "data": {
      "text/plain": [
       "airpods    0.000171\n",
       "de         0.000068\n",
       "que        0.000065\n",
       "um         0.000063\n",
       "o          0.000055\n",
       "dtype: float64"
      ]
     },
     "execution_count": 7,
     "metadata": {},
     "output_type": "execute_result"
    }
   ],
   "source": [
    "alpha = 1       #constante alpha para ser utilizada caso precisemos usar uma palavra que não consta na base de dados\n",
    "V = 10**6       #constante V para representar a quantidade de palavras póssiveis de usarmos em tweets\n",
    "\n",
    "valores = {}    #dicionário que vai conter um DataFrame para cada classe informando o peso de cada palavra na base de dados da classe\n",
    "for classe in string: #conversão das strings para o DataFrame dos pesos\n",
    "    valores[classe] = (pd.Series(string[classe].split()).value_counts() + alpha) / (len(string[classe].split()) + alpha*V)\n",
    "\n",
    "valores['pos'].head()"
   ]
  },
  {
   "cell_type": "code",
   "execution_count": 8,
   "metadata": {},
   "outputs": [
    {
     "name": "stdout",
     "output_type": "stream",
     "text": [
      "2\n"
     ]
    }
   ],
   "source": [
    "def classifica(tweet):\n",
    "    '''\n",
    "    Função que usa a base de dados da variável valores para classificar tweets na forma de uma única string em positivo, negativo ou neutro.\n",
    "    '''\n",
    "    tweet_clean = cleanup(tweet)\n",
    "    frase_list = tweet_clean.split()                        #lista com cada palavra da frase\n",
    "    resultados = []                                         #lista que vai compreender uma tupla (classe, peso do tweet na respectiva classe) para cada classe\n",
    "    for classe, n in classes:                               #uma vez para cada classe\n",
    "        value = 0                                           #variavel que copreende a combinação dos pesos de cada palavra do tweet na classe da vez\n",
    "        for palavra in frase_list:                          #uma vez para cada palavra no tweet\n",
    "            if palavra in valores[classe]:                  #se a palavra constar na base de dados...\n",
    "                value += np.log(valores[classe][palavra])   #adiciona o peso dela na variavel value\n",
    "                #print(classe, palavra, np.log(valores[classe][palavra]), '(tem)')\n",
    "            else:\n",
    "                value += np.log(alpha / (len(string[classe].split()) + alpha*V)) #adiciona o peso de uma palavra genérica na variavel value\n",
    "                #print(classe, palavra, np.log(alpha / (len(string[classe].split()) + alpha*V)), '(NAO tem)')\n",
    "        resultados += [(value, n)]                          #adiciona a tupla (classe, peso do tweet na respectiva classe) na lista de resultados\n",
    "    classificacao = (-10000, 0)                                  #variavel que vai compreender a tupla com o maior peso\n",
    "    for value, n in resultados:                             #uma vez par cada tupla na lista de resultados\n",
    "        if classificacao[0] < value:                        #se o peso dessa tupla for maior do que o da variavel classificação...\n",
    "            classificacao = (value, n)                      #a variavel classificação assumi o valor dessa tupla\n",
    "    \n",
    "    return classificacao[1]                                 #retorna apenas o número da classifição alcançada\n",
    "\n",
    "\n",
    "\n",
    "print(classifica('ganhei novos airpods'))"
   ]
  },
  {
   "cell_type": "markdown",
   "metadata": {},
   "source": [
    "___\n",
    "### Verificando a performance do Classificador\n",
    "\n",
    "Agora você deve testar o seu classificador com a base de Testes."
   ]
  },
  {
   "cell_type": "code",
   "execution_count": 9,
   "metadata": {},
   "outputs": [
    {
     "data": {
      "text/plain": [
       "{'neg': {'neg': 2, 'neu': 27, 'pos': 17},\n",
       " 'neu': {'neg': 6, 'neu': 72, 'pos': 36},\n",
       " 'pos': {'neg': 2, 'neu': 57, 'pos': 33}}"
      ]
     },
     "execution_count": 9,
     "metadata": {},
     "output_type": "execute_result"
    }
   ],
   "source": [
    "perf = {} #dicionário que vai compreender os fesultados da verificação de performance\n",
    "for classe, n in classes:\n",
    "    perf[classe] = {}\n",
    "    for classe_B, n_B in classes:\n",
    "        perf[classe][classe_B] = 0\n",
    "    frame = test.loc[train['Classe'] == n, :] #seleciona os tweets da planilha de teste da respectiva classe\n",
    "    for tweet in frame['Tweet']:\n",
    "        perf[classe][classes[classifica(tweet)][0]] += 1\n",
    "        \n",
    "perf"
   ]
  },
  {
   "cell_type": "code",
   "execution_count": 10,
   "metadata": {},
   "outputs": [
    {
     "data": {
      "text/plain": [
       "{'total': {'verdadeiro': 107, 'falso': 145},\n",
       " 'neg': {'verdadeiro': 2, 'falso': 8},\n",
       " 'neu': {'verdadeiro': 72, 'falso': 84},\n",
       " 'pos': {'verdadeiro': 33, 'falso': 53}}"
      ]
     },
     "execution_count": 10,
     "metadata": {},
     "output_type": "execute_result"
    }
   ],
   "source": [
    "perf_clean = {'total':{'verdadeiro':0, 'falso':0}} #variável perf pronta para expor os dados no print\n",
    "for classe, n in classes:\n",
    "    perf_clean[classe] = {'verdadeiro':0, 'falso':0}\n",
    "    for classe_B, n_B in classes:\n",
    "        if classe == classe_B:\n",
    "            perf_clean[classe]['verdadeiro'] += perf[classe_B][classe]\n",
    "            perf_clean['total']['verdadeiro'] += perf[classe_B][classe]\n",
    "        else:\n",
    "            perf_clean[classe]['falso'] += perf[classe_B][classe]\n",
    "            perf_clean['total']['falso'] += perf[classe_B][classe]\n",
    "\n",
    "perf_clean"
   ]
  },
  {
   "cell_type": "code",
   "execution_count": 11,
   "metadata": {},
   "outputs": [
    {
     "name": "stdout",
     "output_type": "stream",
     "text": [
      "Negativo:\n",
      " Verdadeiros Negativo: 2 (0.794%)\n",
      " Falsos Negativo: 8 (3.17%)\n",
      "Neutro:\n",
      " Verdadeiros Neutro: 72 (28.6%)\n",
      " Falsos Neutro: 84 (33.3%)\n",
      "Positivo:\n",
      " Verdadeiros Positivo: 33 (13.1%)\n",
      " Falsos Positivo: 53 (21%)\n",
      "Total:\n",
      " Verdadeiros total: 107 (42.5%)\n",
      " Falsos total: 145 (57.5%)\n"
     ]
    }
   ],
   "source": [
    "for classe, n in classes: #print dos resultados da verificação de performance\n",
    "    print(f'{nomes[classe]}:\\n Verdadeiros ' + nomes[classe] + f': {perf_clean[classe][\"verdadeiro\"]} ({(perf_clean[classe][\"verdadeiro\"] / sum(perf_clean[\"total\"].values()))*100:.3g}%)\\n Falsos ' + nomes[classe] + f': {perf_clean[classe][\"falso\"]} ({(perf_clean[classe][\"falso\"] / sum(perf_clean[\"total\"].values()))*100:.3g}%)')\n",
    "print(f'Total:\\n Verdadeiros total: {perf_clean[\"total\"][\"verdadeiro\"]} ({(perf_clean[\"total\"][\"verdadeiro\"] / sum(perf_clean[\"total\"].values()))*100:.3g}%)\\n Falsos total: {perf_clean[\"total\"][\"falso\"]} ({(perf_clean[\"total\"][\"falso\"] / sum(perf_clean[\"total\"].values()))*100:.3g}%)')"
   ]
  },
  {
   "cell_type": "markdown",
   "metadata": {},
   "source": [
    "___\n",
    "### Concluindo"
   ]
  },
  {
   "cell_type": "markdown",
   "metadata": {},
   "source": [
    "Como podemos ver na cessão anterior do notebook, nosso classificador conseguiu interpretar corretamente 42.5% dos tweets da planilha Teste. Avaliamos que uma eficiência de 42.5% não é muito boa. Diversas fontes falem que o Naive Bayes consegue uma eficiencia de até 92%. Supomos que não conseguimos alcançar essa taxa tão alta porque nossa base de dados não foi tão grande.\n",
    "\n",
    "Ao fazer algumas experiências com nosso classificador concluimos que a dupla negação é interpretada pelo algoritmo como \"algo que nega muito\" e não como uma negação cancelando a outra. Dessa forma, duplas negações tendem a ter uma taxa de acerto muito baixa no classificador.\n",
    "O sarcasmo é interpretrado como a exata mesma frase, mas sem sarcasmo, logo, tendo o sentido oposto. Isso acontece porque o sarcasmo da forma que entendemos em nossas comunições sociais não é interpretavel baseado apenas na frequência de palavras na frase sarcástica.\n",
    "\n",
    "Como podemos ver, nossa base de tweets de treinamento é baixa e desequilibrada (aprox. 31% positivo, 42% neutro e 27% negativo). Assim, caso ocorra um plano de expansão do nosso projeto, seria possível aumentar a nossa base de tweets e buscar equilibrar a porcentagem de palavras de tweets positivos, neutros e negativos, e com isso melhorar nossa taxa de acerto.\n",
    "Com uma maior eficiência, poderiamos expandir esse projeto para ver a avaliação do público na internet da própria empresa Apple e também todos os seus produtos, para ajudar no marketing em geral.\n",
    "\n",
    "Analisando e compreendendo melhor o funcionamento do algoritmo Naive Bayes, fica aparente o motivo pelo qual não podemos alimentar nossa base de treinamento automaticamente usando o próprio classificador: sabendo que quando usamos nosso algoritmo para classificar uma quantidade X de dados, ele obtem duas frações de X, uma corretamente avaliada e outra errada. Se adicionarmos X inteiro na base de treinamento, cada fração de X terá um efeito difrente. A fração corretamente avaliada apenas reproduz o que já estava na base de dados, \"ele aprende mais a mesma coisa, logo não aprendendo nada\". A fração errada acaba sendo o problema, ela polui a base de treinamento com dados erroneos, assim diminuindo a eficiência do algoritmo\n",
    "\n",
    "Pensando além do projeto, uma possível aplicação do Naive Bayes é na construção de um sistema de reconhecimento de doenças a partir da combinação da presença e/ou ausência de sintomas diversos na vítima. Não seria um sistema usado por profissionais ou para substituir profissionais da área médica, uma vez que a eficiência desse algoritmo é boa, mas não melhor do que a dos especialistas. Seria uma ferramenta de facil acesso, como uma primeira ajuda para alguém que está indeciso se deve ou não ir ao hospital atrás de um diagnóstico profissional.\n",
    "\n",
    "Mesmo que o Naive Bayes tenha uma grande eficiência frente a necessidade de poder computacinal e complexidade muito baixas, ainda há muito que poderia ser implementado para melhorar ainda mais sua eficiência, mesmo que a custo da simplicidade. Uma das mais simples implementações que podem ser usadas no Naive Bayes é manualmente retirar da base de dados palavras que aparecem com muita frequência mas que claramente não aprensentam nenhum valor para as classificações ddo algoritmo. Poderiamos facilmente retirar artigos da base de treinamento, por exemplo. FONTE >>> https://monkeylearn.com/blog/practical-explanation-naive-bayes-classifier/"
   ]
  },
  {
   "cell_type": "markdown",
   "metadata": {},
   "source": [
    "___\n",
    "## Aperfeiçoamento:\n",
    "\n",
    "Os trabalhos vão evoluir em conceito dependendo da quantidade de itens avançados:\n",
    "\n",
    "* Limpar: \\n, :, \", ', (, ), etc SEM remover emojis\n",
    "* Corrigir separação de espaços entre palavras e emojis ou entre emojis e emojis\n",
    "* Propor outras limpezas e transformações que não afetem a qualidade da informação ou classificação\n",
    "* Criar categorias intermediárias de relevância baseadas na probabilidade: ex.: muito relevante, relevante, neutro, irrelevante, muito irrelevante (3 categorias: C, mais categorias conta para B)\n",
    "* Explicar por que não posso usar o próprio classificador para gerar mais amostras de treinamento\n",
    "* Propor diferentes cenários para Naïve Bayes fora do contexto do projeto\n",
    "* Sugerir e explicar melhorias reais com indicações concretas de como implementar (indicar como fazer e indicar material de pesquisa)\n",
    "* Montar um dashboard que realiza análise de sentimento e visualiza estes dados"
   ]
  },
  {
   "cell_type": "markdown",
   "metadata": {},
   "source": [
    "___\n",
    "## Referências"
   ]
  },
  {
   "cell_type": "markdown",
   "metadata": {},
   "source": [
    "[Naive Bayes and Text Classification](https://arxiv.org/pdf/1410.5329.pdf)  **Mais completo**\n",
    "\n",
    "[A practical explanation of a Naive Bayes Classifier](https://monkeylearn.com/blog/practical-explanation-naive-bayes-classifier/) **Mais simples**"
   ]
  }
 ],
 "metadata": {
  "kernelspec": {
   "display_name": "Python 3",
   "language": "python",
   "name": "python3"
  },
  "language_info": {
   "codemirror_mode": {
    "name": "ipython",
    "version": 3
   },
   "file_extension": ".py",
   "mimetype": "text/x-python",
   "name": "python",
   "nbconvert_exporter": "python",
   "pygments_lexer": "ipython3",
   "version": "3.7.4"
  }
 },
 "nbformat": 4,
 "nbformat_minor": 4
}
